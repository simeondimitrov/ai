{
 "cells": [
  {
   "cell_type": "code",
   "execution_count": null,
   "metadata": {},
   "outputs": [],
   "source": [
    "# Source => https://www.kaggle.com/thebrownviking20/intro-to-recurrent-neural-networks-lstm-gru/data"
   ]
  },
  {
   "cell_type": "code",
   "execution_count": 23,
   "metadata": {},
   "outputs": [],
   "source": [
    "# Import Libraries\n",
    "import numpy as np\n",
    "import pandas as pd\n",
    "import matplotlib.pyplot as plt\n",
    "plt.style.use('fivethirtyeight')\n",
    "from sklearn.preprocessing import MinMaxScaler\n",
    "from keras.models import Sequential\n",
    "from keras.layers import LSTM, Dense, Dropout, GRU, Bidirectional\n",
    "from keras.optimizers import SGD\n",
    "import math\n",
    "from sklearn.metrics import mean_squared_error"
   ]
  },
  {
   "cell_type": "code",
   "execution_count": 24,
   "metadata": {},
   "outputs": [],
   "source": [
    "# Useful functions\n",
    "def plot_predictions(test,predicted):\n",
    "    plt.plot(test, color='red',label='Real IBM Stock Price')\n",
    "    plt.plot(predicted, color='blue',label='Predicted IBM Stock Price')\n",
    "    plt.title('IBM Stock Price Prediction')\n",
    "    plt.xlabel('Time')\n",
    "    plt.ylabel('IBM Stock Price')\n",
    "    plt.legend()\n",
    "    plt.show()\n",
    "\n",
    "def return_rmse(test, predicted):\n",
    "    rmse = math.sqrt(mean_squared_error(test, predicted))\n",
    "    print(\"The root mean squared error is {}.\".format(rmse))"
   ]
  },
  {
   "cell_type": "code",
   "execution_count": 25,
   "metadata": {},
   "outputs": [
    {
     "data": {
      "text/html": [
       "<div>\n",
       "<style scoped>\n",
       "    .dataframe tbody tr th:only-of-type {\n",
       "        vertical-align: middle;\n",
       "    }\n",
       "\n",
       "    .dataframe tbody tr th {\n",
       "        vertical-align: top;\n",
       "    }\n",
       "\n",
       "    .dataframe thead th {\n",
       "        text-align: right;\n",
       "    }\n",
       "</style>\n",
       "<table border=\"1\" class=\"dataframe\">\n",
       "  <thead>\n",
       "    <tr style=\"text-align: right;\">\n",
       "      <th></th>\n",
       "      <th>Open</th>\n",
       "      <th>High</th>\n",
       "      <th>Low</th>\n",
       "      <th>Close</th>\n",
       "      <th>Volume</th>\n",
       "      <th>Name</th>\n",
       "    </tr>\n",
       "    <tr>\n",
       "      <th>Date</th>\n",
       "      <th></th>\n",
       "      <th></th>\n",
       "      <th></th>\n",
       "      <th></th>\n",
       "      <th></th>\n",
       "      <th></th>\n",
       "    </tr>\n",
       "  </thead>\n",
       "  <tbody>\n",
       "    <tr>\n",
       "      <th>2006-01-03</th>\n",
       "      <td>82.45</td>\n",
       "      <td>82.55</td>\n",
       "      <td>80.81</td>\n",
       "      <td>82.06</td>\n",
       "      <td>11715200</td>\n",
       "      <td>IBM</td>\n",
       "    </tr>\n",
       "    <tr>\n",
       "      <th>2006-01-04</th>\n",
       "      <td>82.20</td>\n",
       "      <td>82.50</td>\n",
       "      <td>81.33</td>\n",
       "      <td>81.95</td>\n",
       "      <td>9840600</td>\n",
       "      <td>IBM</td>\n",
       "    </tr>\n",
       "    <tr>\n",
       "      <th>2006-01-05</th>\n",
       "      <td>81.40</td>\n",
       "      <td>82.90</td>\n",
       "      <td>81.00</td>\n",
       "      <td>82.50</td>\n",
       "      <td>7213500</td>\n",
       "      <td>IBM</td>\n",
       "    </tr>\n",
       "    <tr>\n",
       "      <th>2006-01-06</th>\n",
       "      <td>83.95</td>\n",
       "      <td>85.03</td>\n",
       "      <td>83.41</td>\n",
       "      <td>84.95</td>\n",
       "      <td>8197400</td>\n",
       "      <td>IBM</td>\n",
       "    </tr>\n",
       "    <tr>\n",
       "      <th>2006-01-09</th>\n",
       "      <td>84.10</td>\n",
       "      <td>84.25</td>\n",
       "      <td>83.38</td>\n",
       "      <td>83.73</td>\n",
       "      <td>6858200</td>\n",
       "      <td>IBM</td>\n",
       "    </tr>\n",
       "  </tbody>\n",
       "</table>\n",
       "</div>"
      ],
      "text/plain": [
       "             Open   High    Low  Close    Volume Name\n",
       "Date                                                 \n",
       "2006-01-03  82.45  82.55  80.81  82.06  11715200  IBM\n",
       "2006-01-04  82.20  82.50  81.33  81.95   9840600  IBM\n",
       "2006-01-05  81.40  82.90  81.00  82.50   7213500  IBM\n",
       "2006-01-06  83.95  85.03  83.41  84.95   8197400  IBM\n",
       "2006-01-09  84.10  84.25  83.38  83.73   6858200  IBM"
      ]
     },
     "execution_count": 25,
     "metadata": {},
     "output_type": "execute_result"
    }
   ],
   "source": [
    "# Load data\n",
    "dataset = pd.read_csv('IBM_2006-01-01_to_2018-01-01.csv', index_col='Date', parse_dates=['Date'])\n",
    "dataset.head()"
   ]
  },
  {
   "cell_type": "code",
   "execution_count": 29,
   "metadata": {},
   "outputs": [],
   "source": [
    "# Checking for missing values\n",
    "training_set = dataset[:'2016'].iloc[:,1:2].values\n",
    "test_set = dataset['2017':].iloc[:,1:2].values\n"
   ]
  },
  {
   "cell_type": "code",
   "execution_count": 30,
   "metadata": {},
   "outputs": [
    {
     "data": {
      "image/png": "[encoded data removed]",
      "text/plain": [
       "<Figure size 1152x288 with 1 Axes>"
      ]
     },
     "metadata": {},
     "output_type": "display_data"
    }
   ],
   "source": [
    "# Visualize the choosen attribute for prices\n",
    "dataset['High'][:'2016'].plot(figsize=(16,4), legend=True)\n",
    "dataset['High']['2017':].plot(figsize=(16,4), legend=True)\n",
    "plt.legend(['Training set before 2017', 'Training set after 2017'])\n",
    "plt.title('IBM Stock Price')\n",
    "plt.show()"
   ]
  },
  {
   "cell_type": "code",
   "execution_count": 31,
   "metadata": {},
   "outputs": [
    {
     "data": {
      "text/plain": [
       "(2769, 1)"
      ]
     },
     "execution_count": 31,
     "metadata": {},
     "output_type": "execute_result"
    }
   ],
   "source": [
    "# Scaling the training set\n",
    "sc_train = MinMaxScaler(feature_range=(0,1))\n",
    "training_set_scaled = sc_train.fit_transform(training_set)\n",
    "training_set.shape"
   ]
  },
  {
   "cell_type": "code",
   "execution_count": 32,
   "metadata": {},
   "outputs": [
    {
     "data": {
      "text/plain": [
       "array([[0.06065089, 0.06029868, 0.06311637, ..., 0.0656523 , 0.06656805,\n",
       "        0.06769513],\n",
       "       [0.06029868, 0.06311637, 0.0781206 , ..., 0.06656805, 0.06769513,\n",
       "        0.06875176],\n",
       "       [0.06311637, 0.0781206 , 0.07262609, ..., 0.06769513, 0.06875176,\n",
       "        0.06804734],\n",
       "       ...,\n",
       "       [0.594745  , 0.59587208, 0.59094111, ..., 0.66420118, 0.65898845,\n",
       "        0.66244012],\n",
       "       [0.59587208, 0.59094111, 0.58812342, ..., 0.65898845, 0.66244012,\n",
       "        0.66074951],\n",
       "       [0.59094111, 0.58812342, 0.59002536, ..., 0.66244012, 0.66074951,\n",
       "        0.65546633]])"
      ]
     },
     "execution_count": 32,
     "metadata": {},
     "output_type": "execute_result"
    }
   ],
   "source": [
    "# Create sequence with 60 timesteps and 1 output \n",
    "X_train = []\n",
    "y_train = []\n",
    "sequence = 60\n",
    "for i in range(sequence, 2769): # (60, 2769)\n",
    "    X_train.append(training_set_scaled[i-60:i,0])\n",
    "    y_train.append(training_set_scaled[i,0])\n",
    "X_train, y_train = np.array(X_train), np.array(y_train)\n",
    "X_train"
   ]
  },
  {
   "cell_type": "code",
   "execution_count": 33,
   "metadata": {
    "scrolled": true
   },
   "outputs": [
    {
     "data": {
      "text/plain": [
       "array([[[0.06065089],\n",
       "        [0.06029868],\n",
       "        [0.06311637],\n",
       "        ...,\n",
       "        [0.0656523 ],\n",
       "        [0.06656805],\n",
       "        [0.06769513]],\n",
       "\n",
       "       [[0.06029868],\n",
       "        [0.06311637],\n",
       "        [0.0781206 ],\n",
       "        ...,\n",
       "        [0.06656805],\n",
       "        [0.06769513],\n",
       "        [0.06875176]],\n",
       "\n",
       "       [[0.06311637],\n",
       "        [0.0781206 ],\n",
       "        [0.07262609],\n",
       "        ...,\n",
       "        [0.06769513],\n",
       "        [0.06875176],\n",
       "        [0.06804734]],\n",
       "\n",
       "       ...,\n",
       "\n",
       "       [[0.594745  ],\n",
       "        [0.59587208],\n",
       "        [0.59094111],\n",
       "        ...,\n",
       "        [0.66420118],\n",
       "        [0.65898845],\n",
       "        [0.66244012]],\n",
       "\n",
       "       [[0.59587208],\n",
       "        [0.59094111],\n",
       "        [0.58812342],\n",
       "        ...,\n",
       "        [0.65898845],\n",
       "        [0.66244012],\n",
       "        [0.66074951]],\n",
       "\n",
       "       [[0.59094111],\n",
       "        [0.58812342],\n",
       "        [0.59002536],\n",
       "        ...,\n",
       "        [0.66244012],\n",
       "        [0.66074951],\n",
       "        [0.65546633]]])"
      ]
     },
     "execution_count": 33,
     "metadata": {},
     "output_type": "execute_result"
    }
   ],
   "source": [
    "# Reshape X_train for efficient modelling\n",
    "X_train = np.reshape(X_train, (X_train.shape[0], X_train.shape[1], 1))\n",
    "X_train"
   ]
  },
  {
   "cell_type": "code",
   "execution_count": null,
   "metadata": {},
   "outputs": [
    {
     "name": "stdout",
     "output_type": "stream",
     "text": [
      "Epoch 1/20\n",
      "2709/2709 [==============================] - 66s 24ms/step - loss: 0.0538\n",
      "Epoch 2/20\n",
      "2709/2709 [==============================] - 72s 26ms/step - loss: 0.0150\n",
      "Epoch 3/20\n",
      "2709/2709 [==============================] - 63s 23ms/step - loss: 0.0129\n",
      "Epoch 4/20\n",
      " 288/2709 [==>...........................] - ETA: 1:01 - loss: 0.0091"
     ]
    }
   ],
   "source": [
    "# The LSTM Architecture\n",
    "model = Sequential()\n",
    "# First LSTM layer with Dropout regularization\n",
    "model.add(LSTM(units=10, return_sequences=True, input_shape=(X_train.shape[1],1)))\n",
    "model.add(Dropout(0.2))\n",
    "# Second LSTM layer\n",
    "model.add(LSTM(units=10, return_sequences=True))\n",
    "model.add(Dropout(0.2))\n",
    "# Third LSTM layer\n",
    "model.add(LSTM(units=10, return_sequences=True))\n",
    "model.add(Dropout(0.2))\n",
    "# Fourth LSTM layer\n",
    "model.add(LSTM(units=10))\n",
    "model.add(Dropout(0.2))\n",
    "# The output layer\n",
    "model.add(Dense(units=1))\n",
    "\n",
    "# Compiling the RNN\n",
    "model.compile(optimizer='rmsprop', loss='mean_squared_error')\n",
    "\n",
    "# Fitting to the training set\n",
    "model.fit(X_train, y_train, epochs=20, batch_size=32)"
   ]
  },
  {
   "cell_type": "code",
   "execution_count": null,
   "metadata": {},
   "outputs": [],
   "source": [
    "# Now to get the test set ready in a similar way as the training set.\n",
    "# The following has been done so first 60 entires of test set have 60 previous values which is impossible to get unless we take the whole \n",
    "# 'High' attribute data for processing\n",
    "dataset_total = pd.concat((dataset['High'][:'2016'], dataset['High']['2017':]), axis=0)\n",
    "inputs = dataset_total[len(dataset_total)-len(test_set)-60:].values\n",
    "inputs = inputs.reshape(-1,1)\n",
    "inputs = sc.transform(inputs)"
   ]
  },
  {
   "cell_type": "code",
   "execution_count": null,
   "metadata": {},
   "outputs": [],
   "source": [
    "# Preparing X_test and predicting the prices\n",
    "X_test = []\n",
    "for i in range(sequence,311): # (60,311)\n",
    "    X_test.append((inputs[i-60:i,0]))\n",
    "    print(X_test)\n",
    "X_test = np.array(X_test)\n",
    "X_test = np.reshape(X_test, (X_test.shape[0], X_test.shape[1], 1))\n",
    "predicted_prices = model.predict(X_test)\n",
    "predicted_prices = sc.inverse_transform(predicted_prices)"
   ]
  },
  {
   "cell_type": "code",
   "execution_count": null,
   "metadata": {},
   "outputs": [],
   "source": [
    "# Visualizing the predictions from LSTM\n",
    "plot_predictions(test_set, predicted_prices)"
   ]
  },
  {
   "cell_type": "code",
   "execution_count": null,
   "metadata": {},
   "outputs": [],
   "source": [
    "# Evaluating the LSTM model\n",
    "return_rmse(test_set, predicted_prices)"
   ]
  },
  {
   "cell_type": "code",
   "execution_count": null,
   "metadata": {},
   "outputs": [],
   "source": [
    "# The GRU Architecture\n",
    "modelgru = Sequential()\n",
    "# First GRU layer\n",
    "modelgru.add(GRU(units=10, return_sequences=True, input_shape=(X_train.shape[1],1), activation='tanh'))\n",
    "modelgru.add(Dropout(0.2))\n",
    "# Second layer\n",
    "modelgru.add(GRU(units=10, return_sequences=True, input_shape=(X_train.shape[1],1), activation='tanh'))\n",
    "modelgru.add(Dropout(0.2))\n",
    "# Third layer\n",
    "modelgru.add(GRU(units=10, return_sequences=True, input_shape=(X_train.shape[1],1), activation='tanh'))\n",
    "modelgru.add(Dropout(0.2))\n",
    "# Forth layer\n",
    "modelgru.add(GRU(units=10, activation='tanh'))\n",
    "modelgru.add(Dropout(0.2))\n",
    "# Output layer\n",
    "modelgru.add(Dense(units=1))\n",
    "# Compile the GRU model\n",
    "modelgru.compile(optimizer=SGD(lr=0.01, decay=1e-7, momentum=0.9, nesterov=False), loss='mean_squared_error')\n",
    "# FItting the GRU model to train data\n",
    "modelgru.fit(X_train, y_train, epochs=10, batch_size=150)\n"
   ]
  },
  {
   "cell_type": "code",
   "execution_count": null,
   "metadata": {},
   "outputs": [],
   "source": [
    "# Preparing X_test to predict the prices\n",
    "X_test = []\n",
    "for i in range(60,311):\n",
    "    X_test.append(inputs[i-60:i,0])\n",
    "X_test = np.array(X_test)\n",
    "X_test = np.reshape(X_test, (X_test.shape[0], X_test.shape[1], 1))\n",
    "GRU_predicted_prices = model.predict(X_test)\n",
    "GRU_predicted_prices = sc.inverse_transform(GRU_predicted_prices)"
   ]
  },
  {
   "cell_type": "code",
   "execution_count": null,
   "metadata": {},
   "outputs": [],
   "source": [
    "# Visualization of the GRU result\n",
    "plot_predictions(test_set, GRU_predicted_prices)"
   ]
  },
  {
   "cell_type": "code",
   "execution_count": null,
   "metadata": {},
   "outputs": [],
   "source": []
  }
 ],
 "metadata": {
  "kernelspec": {
   "display_name": "Python 2",
   "language": "python",
   "name": "python2"
  },
  "language_info": {
   "codemirror_mode": {
    "name": "ipython",
    "version": 2
   },
   "file_extension": ".py",
   "mimetype": "text/x-python",
   "name": "python",
   "nbconvert_exporter": "python",
   "pygments_lexer": "ipython2",
   "version": "2.7.15"
  }
 },
 "nbformat": 4,
 "nbformat_minor": 2
}
